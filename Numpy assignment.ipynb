{
 "cells": [
  {
   "cell_type": "code",
   "execution_count": 1,
   "metadata": {},
   "outputs": [],
   "source": [
    "import numpy as np"
   ]
  },
  {
   "cell_type": "code",
   "execution_count": 6,
   "metadata": {},
   "outputs": [],
   "source": [
    "#Function wherein the columns of the output matrixs are increasing power of their input vector\n",
    "\n",
    "def inc_matrix(inpmatrix, n, increasingValue = False):\n",
    "    if not increasingValue:\n",
    "        output_matrix = np.array([x**(n-1-i) for x in inpmatrix for i in range(n)]).reshape(inpmatrix.size, n)\n",
    "    elif increasingValue:\n",
    "        output_matrix = np.array([x**i for x in inpmatrix for i in range(n)]).reshape(inpmatrix.size, n)\n",
    "        \n",
    "    return output_matrix"
   ]
  },
  {
   "cell_type": "code",
   "execution_count": 7,
   "metadata": {},
   "outputs": [
    {
     "name": "stdout",
     "output_type": "stream",
     "text": [
      "The input matrix is :  [1 2 3 4 5 6] \n",
      "\n",
      "The no of required colums are : 4 \n",
      "\n",
      "Matrix with decreasing orders of powers : \n",
      "\n",
      " [[  1   1   1   1]\n",
      " [  8   4   2   1]\n",
      " [ 27   9   3   1]\n",
      " [ 64  16   4   1]\n",
      " [125  25   5   1]\n",
      " [216  36   6   1]] \n",
      "\n",
      "Matrix with increasing orders of powers : \n",
      "\n",
      " [[  1   1   1   1]\n",
      " [  1   2   4   8]\n",
      " [  1   3   9  27]\n",
      " [  1   4  16  64]\n",
      " [  1   5  25 125]\n",
      " [  1   6  36 216]] \n",
      "\n"
     ]
    }
   ],
   "source": [
    "inputmatrix = np.array([1,2,3,4,5,6])\n",
    "noofcols = 4\n",
    "out_mat_desc = inc_matrix(inputmatrix,noofcols,False)\n",
    "out_mat_asc = inc_matrix(inputmatrix,noofcols,True)\n",
    "\n",
    "print(\"The input matrix is : \",inputmatrix,\"\\n\")\n",
    "print(\"The no of required colums are :\",noofcols,\"\\n\")\n",
    "print(\"Matrix with decreasing orders of powers : \\n\\n\",out_mat_desc, \"\\n\")\n",
    "print(\"Matrix with increasing orders of powers : \\n\\n\",out_mat_asc, \"\\n\")"
   ]
  },
  {
   "cell_type": "markdown",
   "metadata": {},
   "source": [
    "Problem Statement\n",
    "\n",
    "1.Given a sequence of n values x1,x2,...,xn and a window size k>0,the k-th moving average of the given sequence is defined as follows:\n",
    "\n",
    "The moving average sequence has n-k+1 elements as shown below.\n",
    "\n",
    "The moving averages with k=4 of a ten-value sequence (n=10) is shown below\n",
    "\n",
    "i 1 2 3 4 5 6 7 8 9 10\n",
    "\n",
    "===== == == == == == == == == == ==\n",
    "\n",
    "Input 10 20 30 40 50 60 70 80 90 100\n",
    "\n",
    "y1 25 = (10+20+30+40)/4\n",
    "\n",
    "y2 35 = (20+30+40+50)/4\n",
    "\n",
    "y3 45 = (30+40+50+60)/4\n",
    "\n",
    "y4 55 = (40+50+60+70)/4\n",
    "\n",
    "y5 65 = (50+60+70+80)/4\n",
    "\n",
    "y6 75 = (60+70+80+90)/4\n",
    "\n",
    "y7 85 = (70+80+90+100)/4\n",
    "\n",
    "Thus, the moving average sequence has n-k+1=10-4+1=7 values"
   ]
  },
  {
   "cell_type": "code",
   "execution_count": 20,
   "metadata": {},
   "outputs": [],
   "source": [
    "def mov_avg(inp,k):\n",
    "    str_len = len(inp)\n",
    "    for i in range(0,str_len-k+1):\n",
    "        sum = 0\n",
    "        st = []\n",
    "        for j in range(i,i+k):\n",
    "            sum = sum + inp[j]\n",
    "            st.append(str(inp[j]))\n",
    "        avg = sum/k\n",
    "        st1 = \"+\".join(st)\n",
    "        st1 = \"(\"+st1+\")\"\n",
    "        st1=st1+\"/\"+str(k)\n",
    "        print(\"y\",(i+1), \" \"*(2),'%d'%avg,\"=\",st1)"
   ]
  },
  {
   "cell_type": "code",
   "execution_count": 21,
   "metadata": {},
   "outputs": [
    {
     "name": "stdout",
     "output_type": "stream",
     "text": [
      "y 1    25 = (10+20+30+40)/4\n",
      "y 2    35 = (20+30+40+50)/4\n",
      "y 3    45 = (30+40+50+60)/4\n",
      "y 4    55 = (40+50+60+70)/4\n",
      "y 5    65 = (50+60+70+80)/4\n",
      "y 6    75 = (60+70+80+90)/4\n",
      "y 7    85 = (70+80+90+100)/4\n"
     ]
    }
   ],
   "source": [
    "input_array=np.array([10,20,30,40,50,60,70,80,90,100])\n",
    "k=4\n",
    "mov_avg(input_array,k)"
   ]
  },
  {
   "cell_type": "code",
   "execution_count": 22,
   "metadata": {},
   "outputs": [
    {
     "name": "stdout",
     "output_type": "stream",
     "text": [
      "y 1    5 = (3+5+7)/3\n",
      "y 2    4 = (5+7+2)/3\n",
      "y 3    5 = (7+2+8)/3\n",
      "y 4    6 = (2+8+10)/3\n",
      "y 5    9 = (8+10+11)/3\n",
      "y 6    28 = (10+11+65)/3\n",
      "y 7    49 = (11+65+72)/3\n",
      "y 8    72 = (65+72+81)/3\n",
      "y 9    84 = (72+81+99)/3\n",
      "y 10    93 = (81+99+100)/3\n",
      "y 11    116 = (99+100+150)/3\n"
     ]
    }
   ],
   "source": [
    "a=np.array([3, 5, 7, 2, 8, 10, 11, 65, 72, 81, 99, 100, 150])\n",
    "k=3\n",
    "mov_avg(a,k)"
   ]
  }
 ],
 "metadata": {
  "kernelspec": {
   "display_name": "Python 3",
   "language": "python",
   "name": "python3"
  },
  "language_info": {
   "codemirror_mode": {
    "name": "ipython",
    "version": 3
   },
   "file_extension": ".py",
   "mimetype": "text/x-python",
   "name": "python",
   "nbconvert_exporter": "python",
   "pygments_lexer": "ipython3",
   "version": "3.7.1"
  }
 },
 "nbformat": 4,
 "nbformat_minor": 2
}
